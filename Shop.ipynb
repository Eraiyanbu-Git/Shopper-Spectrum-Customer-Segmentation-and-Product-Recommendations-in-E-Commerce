{
 "cells": [
  {
   "cell_type": "code",
   "execution_count": 7,
   "id": "3b7e6f2a-1307-4654-92e9-1278feb3d85b",
   "metadata": {},
   "outputs": [],
   "source": [
    "import pandas as pd\n",
    "\n",
    "\n",
    "# Load dataset\n",
    "df = pd.read_csv('data/online_retail.csv', encoding='ISO-8859-1')\n",
    "\n",
    "#Data preprocessing\n",
    "# Remove missing CustomerID\n",
    "df.dropna(subset=['CustomerID'], inplace=True)\n",
    "\n",
    "# Remove cancelled invoices\n",
    "df = df[~df['InvoiceNo'].astype(str).str.startswith('C')]\n",
    "\n",
    "# Remove negative and zero quantities/prices\n",
    "df = df[(df['Quantity'] > 0) & (df['UnitPrice'] > 0)]\n",
    "\n",
    "# Create TotalPrice\n",
    "df['TotalPrice'] = df['Quantity'] * df['UnitPrice']\n",
    "import pandas as pd\n",
    "\n",
    "# ✅ Convert InvoiceDate to datetime\n",
    "df['InvoiceDate'] = pd.to_datetime(df['InvoiceDate'])"
   ]
  },
  {
   "cell_type": "code",
   "execution_count": 8,
   "id": "d2977bc3-668c-406a-9eee-1d23a1e8fadf",
   "metadata": {},
   "outputs": [],
   "source": [
    "import datetime as dt\n",
    "\n",
    "#RFM Feature Engineering\n",
    "# Reference date\n",
    "latest_date = df['InvoiceDate'].max()\n",
    "\n",
    "# RFM Table\n",
    "rfm = df.groupby('CustomerID').agg({\n",
    "    'InvoiceDate': lambda x: (latest_date - x.max()).days,\n",
    "    'InvoiceNo': 'nunique',\n",
    "    'TotalPrice': 'sum'\n",
    "}).reset_index()\n",
    "\n",
    "rfm.columns = ['CustomerID', 'Recency', 'Frequency', 'Monetary']\n"
   ]
  },
  {
   "cell_type": "code",
   "execution_count": 9,
   "id": "c76762fe-3006-46e4-9041-279702acf841",
   "metadata": {},
   "outputs": [],
   "source": [
    "# RFM Clustering\n",
    "\n",
    "from sklearn.preprocessing import StandardScaler\n",
    "from sklearn.cluster import KMeans\n",
    "\n",
    "# Standardize\n",
    "scaler = StandardScaler()\n",
    "rfm_scaled = scaler.fit_transform(rfm[['Recency', 'Frequency', 'Monetary']])\n",
    "\n",
    "# Find optimal k (use Elbow/Silhouette in notebook)\n",
    "\n",
    "# Clustering\n",
    "kmeans = KMeans(n_clusters=4, random_state=42)\n",
    "rfm['Cluster'] = kmeans.fit_predict(rfm_scaled)\n",
    "\n",
    "# Map to labels\n",
    "segment_map = {\n",
    "    0: 'High-Value', \n",
    "    1: 'Regular', \n",
    "    2: 'Occasional', \n",
    "    3: 'At-Risk'\n",
    "}\n",
    "rfm['Segment'] = rfm['Cluster'].map(segment_map)\n"
   ]
  },
  {
   "cell_type": "code",
   "execution_count": 11,
   "id": "8b23c9af-cf5f-41a5-8280-290d799788d0",
   "metadata": {},
   "outputs": [],
   "source": [
    "# Save model\n",
    "\n",
    "import pickle\n",
    "with open('models/kmeans_model.pkl', 'wb') as f:\n",
    "    pickle.dump(kmeans, f)\n",
    "with open('models/scaler.pkl', 'wb') as f:\n",
    "    pickle.dump(scaler, f)"
   ]
  },
  {
   "cell_type": "code",
   "execution_count": 12,
   "id": "0e3b3330-7c11-4d3f-a663-2848d8758910",
   "metadata": {},
   "outputs": [],
   "source": [
    "# Product recommadation\n",
    "\n",
    "# Create user-item matrix\n",
    "pivot = df.pivot_table(index='CustomerID', columns='Description', values='Quantity', fill_value=0)\n",
    "\n",
    "# Cosine similarity\n",
    "from sklearn.metrics.pairwise import cosine_similarity\n",
    "similarity_matrix = cosine_similarity(pivot.T)\n",
    "similarity_df = pd.DataFrame(similarity_matrix, index=pivot.columns, columns=pivot.columns)\n",
    "\n",
    "# Recommend function\n",
    "def recommend(product, top_n=5):\n",
    "    return similarity_df[product].sort_values(ascending=False)[1:top_n+1].index.tolist()"
   ]
  },
  {
   "cell_type": "code",
   "execution_count": 13,
   "id": "62cf3ee0-6730-4d7e-a1a6-43ac08a04082",
   "metadata": {},
   "outputs": [],
   "source": [
    "similarity_df.to_pickle(\"models/product_similarity.pkl\")"
   ]
  },
  {
   "cell_type": "code",
   "execution_count": null,
   "id": "64025d5d-9439-4aad-b1f2-15ba88a55662",
   "metadata": {},
   "outputs": [],
   "source": []
  }
 ],
 "metadata": {
  "kernelspec": {
   "display_name": "Python [conda env:base] *",
   "language": "python",
   "name": "conda-base-py"
  },
  "language_info": {
   "codemirror_mode": {
    "name": "ipython",
    "version": 3
   },
   "file_extension": ".py",
   "mimetype": "text/x-python",
   "name": "python",
   "nbconvert_exporter": "python",
   "pygments_lexer": "ipython3",
   "version": "3.13.5"
  }
 },
 "nbformat": 4,
 "nbformat_minor": 5
}
